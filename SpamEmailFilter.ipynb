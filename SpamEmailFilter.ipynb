{
 "cells": [
  {
   "cell_type": "markdown",
   "source": [
    "# Initial data parsing"
   ],
   "metadata": {}
  },
  {
   "cell_type": "code",
   "execution_count": 1,
   "source": [
    "from pandas import read_csv, DataFrame, concat\n",
    "from sklearn import metrics\n",
    "from sklearn.naive_bayes import GaussianNB\n",
    "from sklearn.model_selection import train_test_split\n",
    "import snowballstemmer\n",
    "from stop_words import get_stop_words\n",
    "import collections\n",
    "\n",
    "stop_word = get_stop_words('en')\n",
    "df = read_csv(\"./spam_ham_dataset.csv\")\n",
    "new_df = df\n",
    "\n",
    "df.drop(['Unnamed: 0', 'label'],axis=1,inplace=True)\n",
    "\n",
    "print(df.head(5)[\"text\"][0])"
   ],
   "outputs": [
    {
     "output_type": "stream",
     "name": "stdout",
     "text": [
      "Subject: enron methanol ; meter # : 988291\n",
      "this is a follow up to the note i gave you on monday , 4 / 3 / 00 { preliminary\n",
      "flow data provided by daren } .\n",
      "please override pop ' s daily volume { presently zero } to reflect daily\n",
      "activity you can obtain from gas control .\n",
      "this change is needed asap for economics purposes .\n"
     ]
    }
   ],
   "metadata": {}
  },
  {
   "cell_type": "code",
   "execution_count": 2,
   "source": [
    "print(df.head(10))"
   ],
   "outputs": [
    {
     "output_type": "stream",
     "name": "stdout",
     "text": [
      "                                                text  label_num\n",
      "0  Subject: enron methanol ; meter # : 988291\\r\\n...          0\n",
      "1  Subject: hpl nom for january 9 , 2001\\r\\n( see...          0\n",
      "2  Subject: neon retreat\\r\\nho ho ho , we ' re ar...          0\n",
      "3  Subject: photoshop , windows , office . cheap ...          1\n",
      "4  Subject: re : indian springs\\r\\nthis deal is t...          0\n",
      "5  Subject: ehronline web address change\\r\\nthis ...          0\n",
      "6  Subject: spring savings certificate - take 30 ...          0\n",
      "7  Subject: looking for medication ? we ` re the ...          1\n",
      "8  Subject: noms / actual flow for 2 / 26\\r\\nwe a...          0\n",
      "9  Subject: nominations for oct . 21 - 23 , 2000\\...          0\n"
     ]
    }
   ],
   "metadata": {}
  },
  {
   "cell_type": "markdown",
   "source": [
    "# Process data\n",
    "\n",
    "- Remove \"Subject:\"\n",
    "- Stem words (turn all similar words into the same word)\n",
    "- Remove all common stop words"
   ],
   "metadata": {}
  },
  {
   "cell_type": "code",
   "execution_count": 3,
   "source": [
    "stemmer: snowballstemmer.EnglishStemmer = snowballstemmer.stemmer('english')\n",
    "def preprocess(text, stem=False):\n",
    "    text = \"\\n\".join(text.split(\"\\n\")[1:])\n",
    "    tokens = []\n",
    "    for token in text.split():\n",
    "        if token not in stop_word:\n",
    "            if stem:\n",
    "                tokens.append(stemmer.stemWord(token))\n",
    "            else:\n",
    "                tokens.append(token)\n",
    "    return \" \".join(tokens)\n",
    "   \n",
    "\n",
    "for index, text in enumerate(df[\"text\"]):\n",
    "    data = preprocess(text)\n",
    "    df[\"text\"][index] = data\n",
    "\n",
    "print(df.head(5)[\"text\"])"
   ],
   "outputs": [
    {
     "output_type": "stream",
     "name": "stderr",
     "text": [
      "<ipython-input-3-3302a6cbe538>:16: SettingWithCopyWarning: \n",
      "A value is trying to be set on a copy of a slice from a DataFrame\n",
      "\n",
      "See the caveats in the documentation: http://pandas.pydata.org/pandas-docs/stable/user_guide/indexing.html#returning-a-view-versus-a-copy\n",
      "  df[\"text\"][index] = data\n"
     ]
    },
    {
     "output_type": "stream",
     "name": "stdout",
     "text": [
      "0    follow note gave monday , 4 / 3 / 00 { prelimi...\n",
      "1    ( see attached file : hplnol 09 . xls ) - hpln...\n",
      "2    ho ho ho , ' re around wonderful time year - -...\n",
      "3    abasements darer prudently fortuitous undergon...\n",
      "4    deal book teco pvr revenue . understanding tec...\n",
      "Name: text, dtype: object\n"
     ]
    }
   ],
   "metadata": {}
  },
  {
   "cell_type": "markdown",
   "source": [
    "# Create dictionary of 3000 most common words"
   ],
   "metadata": {}
  },
  {
   "cell_type": "code",
   "execution_count": 4,
   "source": [
    "def make_Dictionary1(emails):\n",
    "    all_words = []       \n",
    "    for mail in emails:    \n",
    "        words = mail.split()\n",
    "        all_words += words\n",
    "    \n",
    "    dictionary = collections.Counter(all_words)\n",
    "\n",
    "    for item in dictionary.copy():\n",
    "        if not item.isalpha() or len(item) == 0:\n",
    "            del dictionary[item]\n",
    "            \n",
    "    dictionary = dictionary.most_common(3000)\n",
    "\n",
    "    return dictionary\n",
    "\n",
    "word_dict = make_Dictionary1(df[\"text\"])"
   ],
   "outputs": [],
   "metadata": {}
  },
  {
   "cell_type": "markdown",
   "source": [
    "# Turn letters into numbers"
   ],
   "metadata": {}
  },
  {
   "cell_type": "code",
   "execution_count": 5,
   "source": [
    "import numpy as np\n",
    "\n",
    "def extract_features(email_text_list): \n",
    "    features_matrix = np.zeros((len(email_text_list),3000))\n",
    "    docID = 0\n",
    "    for text in email_text_list:\n",
    "        words = text.split()\n",
    "        for word in words:\n",
    "            wordID = 0\n",
    "            for i,d in enumerate(word_dict.copy()):\n",
    "                if d[0] == word:\n",
    "                    wordID = i\n",
    "                    features_matrix[docID,wordID] = words.count(word)\n",
    "        docID = docID + 1\n",
    "    return features_matrix"
   ],
   "outputs": [],
   "metadata": {}
  },
  {
   "cell_type": "markdown",
   "source": [
    "- Create training dataframe\n",
    "- Split training and testing data\n",
    "- Split text and prediction columns\n",
    "- Sort rows in dataframe by label number"
   ],
   "metadata": {}
  },
  {
   "cell_type": "code",
   "execution_count": 6,
   "source": [
    "feature_cols = [\"text\"]\n",
    "predicted_cols = [\"label_num\"]\n",
    "\n",
    "x = df[feature_cols]\n",
    "y = df[predicted_cols]\n",
    "\n",
    "x_train, x_test, y_train, y_test = train_test_split(x, y, test_size=.33, random_state=42)\n",
    "\n",
    "train_df = [x_train, y_train]\n",
    "train_df_rows: DataFrame = concat(train_df, axis=1)\n",
    "sorted_train_df = train_df_rows.sort_values(by=\"label_num\")\n",
    "\n",
    "train_features = extract_features(sorted_train_df[\"text\"])"
   ],
   "outputs": [],
   "metadata": {}
  },
  {
   "cell_type": "code",
   "execution_count": 7,
   "source": [
    "model = GaussianNB()\n",
    "model.fit(train_features, sorted_train_df[\"label_num\"])"
   ],
   "outputs": [
    {
     "output_type": "execute_result",
     "data": {
      "text/plain": [
       "GaussianNB()"
      ]
     },
     "metadata": {},
     "execution_count": 7
    }
   ],
   "metadata": {}
  },
  {
   "cell_type": "markdown",
   "source": [
    "# Do the same with the testing data"
   ],
   "metadata": {}
  },
  {
   "cell_type": "code",
   "execution_count": 8,
   "source": [
    "test_df = [x_test, y_test]\n",
    "test_df_rows = concat(test_df, axis=1)\n",
    "sorted_test_df = test_df_rows.sort_values(by=\"label_num\")\n",
    "test_features = extract_features(sorted_test_df[\"text\"])"
   ],
   "outputs": [],
   "metadata": {}
  },
  {
   "cell_type": "markdown",
   "source": [
    "# Predict testing and training data"
   ],
   "metadata": {}
  },
  {
   "cell_type": "code",
   "execution_count": 9,
   "source": [
    "test_result = model.predict(test_features)\n",
    "train_result = model.predict(train_features)"
   ],
   "outputs": [],
   "metadata": {}
  },
  {
   "cell_type": "markdown",
   "source": [
    "# Get accuracy of algorithm"
   ],
   "metadata": {}
  },
  {
   "cell_type": "code",
   "execution_count": 10,
   "source": [
    "from sklearn import metrics\n",
    "train_confusion_matrix = metrics.confusion_matrix(sorted_train_df[\"label_num\"], train_result)\n",
    "test_confusion_matrix = metrics.confusion_matrix(sorted_test_df[\"label_num\"], test_result)\n",
    "\n",
    "print(\"Training confusion matrix:\", train_confusion_matrix)\n",
    "print(\"Testing confusion matrix:\", test_confusion_matrix)\n",
    "\n",
    "print(\"Accuracy:\", metrics.accuracy_score(sorted_test_df[\"label_num\"], test_result))"
   ],
   "outputs": [
    {
     "output_type": "stream",
     "name": "stdout",
     "text": [
      "Training confusion matrix: [[2280  146]\n",
      " [   0 1038]]\n",
      "Testing confusion matrix: [[1174   72]\n",
      " [  19  442]]\n",
      "Accuracy: 0.9466900995899239\n"
     ]
    }
   ],
   "metadata": {}
  },
  {
   "cell_type": "markdown",
   "source": [
    "# Save model to file"
   ],
   "metadata": {}
  },
  {
   "cell_type": "code",
   "execution_count": 11,
   "source": [
    "from joblib import dump\n",
    "\n",
    "dump(model, \"trained-model.sav\")"
   ],
   "outputs": [
    {
     "output_type": "execute_result",
     "data": {
      "text/plain": [
       "['trained-model.sav']"
      ]
     },
     "metadata": {},
     "execution_count": 11
    }
   ],
   "metadata": {}
  }
 ],
 "metadata": {
  "interpreter": {
   "hash": "aee8b7b246df8f9039afb4144a1f6fd8d2ca17a180786b69acc140d282b71a49"
  },
  "kernelspec": {
   "display_name": "Python 3.8.5 64-bit",
   "name": "python3"
  },
  "language_info": {
   "codemirror_mode": {
    "name": "ipython",
    "version": 3
   },
   "file_extension": ".py",
   "mimetype": "text/x-python",
   "name": "python",
   "nbconvert_exporter": "python",
   "pygments_lexer": "ipython3",
   "version": "3.8.5"
  }
 },
 "nbformat": 4,
 "nbformat_minor": 4
}