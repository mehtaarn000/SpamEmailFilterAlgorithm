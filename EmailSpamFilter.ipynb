{
 "cells": [
  {
   "cell_type": "code",
   "execution_count": 34,
   "source": [
    "from pandas import read_csv, DataFrame, concat\n",
    "from sklearn import metrics\n",
    "from sklearn.naive_bayes import GaussianNB\n",
    "from sklearn.model_selection import train_test_split\n",
    "import snowballstemmer\n",
    "from stop_words import get_stop_words\n",
    "import collections\n",
    "\n",
    "stop_word = get_stop_words('en')\n",
    "df = read_csv(\"./spam_ham_dataset.csv\")\n",
    "new_df = df\n",
    "\n",
    "df.drop(['Unnamed: 0', 'label'],axis=1,inplace=True)\n",
    "\n",
    "print(df.head(5)[\"text\"][0])"
   ],
   "outputs": [
    {
     "output_type": "stream",
     "name": "stdout",
     "text": [
      "Subject: enron methanol ; meter # : 988291\n",
      "this is a follow up to the note i gave you on monday , 4 / 3 / 00 { preliminary\n",
      "flow data provided by daren } .\n",
      "please override pop ' s daily volume { presently zero } to reflect daily\n",
      "activity you can obtain from gas control .\n",
      "this change is needed asap for economics purposes .\n"
     ]
    }
   ],
   "metadata": {}
  },
  {
   "cell_type": "code",
   "execution_count": null,
   "source": [
    "print(df.head(10))"
   ],
   "outputs": [],
   "metadata": {}
  },
  {
   "cell_type": "code",
   "execution_count": null,
   "source": [
    "stemmer: snowballstemmer.EnglishStemmer = snowballstemmer.stemmer('english')\n",
    "def preprocess(text, stem=False):\n",
    "    text = \"\\n\".join(text.split(\"\\n\")[1:])\n",
    "    tokens = []\n",
    "    for token in text.split():\n",
    "        if token not in stop_word:\n",
    "            if stem:\n",
    "                tokens.append(stemmer.stemWord(token))\n",
    "            else:\n",
    "                tokens.append(token)\n",
    "    return \" \".join(tokens)\n",
    "   \n",
    "\n",
    "for index, text in enumerate(df[\"text\"]):\n",
    "    data = preprocess(text)\n",
    "    df[\"text\"][index] = data\n",
    "\n",
    "print(df.head(5)[\"text\"])"
   ],
   "outputs": [],
   "metadata": {}
  },
  {
   "cell_type": "code",
   "execution_count": null,
   "source": [
    "def make_Dictionary1(emails):\n",
    "    all_words = []       \n",
    "    for mail in emails:    \n",
    "        words = mail.split()\n",
    "        all_words += words\n",
    "    \n",
    "    dictionary = collections.Counter(all_words)\n",
    "\n",
    "    for item in dictionary.copy():\n",
    "        if not item.isalpha() or len(item) == 0:\n",
    "            del dictionary[item]\n",
    "            \n",
    "    dictionary = dictionary.most_common(3000)\n",
    "\n",
    "    return dictionary\n",
    "\n",
    "word_dict = make_Dictionary1(df[\"text\"])"
   ],
   "outputs": [],
   "metadata": {}
  },
  {
   "cell_type": "code",
   "execution_count": null,
   "source": [
    "import numpy as np\n",
    "\n",
    "def extract_features(email_text_list): \n",
    "    features_matrix = np.zeros((len(email_text_list),3000))\n",
    "    docID = 0\n",
    "    for text in email_text_list:\n",
    "        words = text.split()\n",
    "        for word in words:\n",
    "            wordID = 0\n",
    "            for i,d in enumerate(word_dict.copy()):\n",
    "                if d[0] == word:\n",
    "                    wordID = i\n",
    "                    features_matrix[docID,wordID] = words.count(word)\n",
    "        docID = docID + 1\n",
    "    return features_matrix"
   ],
   "outputs": [],
   "metadata": {}
  },
  {
   "cell_type": "code",
   "execution_count": null,
   "source": [
    "feature_cols = [\"text\"]\n",
    "predicted_cols = [\"label_num\"]\n",
    "\n",
    "x = df[feature_cols]\n",
    "y = df[predicted_cols]\n",
    "\n",
    "x_train, x_test, y_train, y_test = train_test_split(x, y, test_size=.33, random_state=42)\n",
    "\n",
    "train_df = [x_train, y_train]\n",
    "train_df_rows: DataFrame = concat(train_df, axis=1)\n",
    "sorted_train_df = train_df_rows.sort_values(by=\"label_num\")\n",
    "\n",
    "train_features = extract_features(sorted_train_df[\"text\"])"
   ],
   "outputs": [],
   "metadata": {}
  },
  {
   "cell_type": "code",
   "execution_count": 35,
   "source": [
    "model = GaussianNB()\n",
    "model.fit(train_features, sorted_train_df[\"label_num\"])"
   ],
   "outputs": [
    {
     "output_type": "execute_result",
     "data": {
      "text/plain": [
       "GaussianNB()"
      ]
     },
     "metadata": {},
     "execution_count": 35
    }
   ],
   "metadata": {}
  },
  {
   "cell_type": "code",
   "execution_count": null,
   "source": [
    "test_df = [x_test, y_test]\n",
    "test_df_rows = concat(test_df, axis=1)\n",
    "sorted_test_df = test_df_rows.sort_values(by=\"label_num\")\n",
    "test_features = extract_features(sorted_test_df[\"text\"])"
   ],
   "outputs": [],
   "metadata": {}
  },
  {
   "cell_type": "code",
   "execution_count": 37,
   "source": [
    "test_result = model.predict(test_features)\n",
    "train_result = model.predict(train_features)"
   ],
   "outputs": [],
   "metadata": {}
  },
  {
   "cell_type": "code",
   "execution_count": 38,
   "source": [
    "from sklearn import metrics\n",
    "train_confusion_matrix = metrics.confusion_matrix(sorted_train_df[\"label_num\"], train_result)\n",
    "test_confusion_matrix = metrics.confusion_matrix(sorted_test_df[\"label_num\"], test_result)\n",
    "\n",
    "print(\"Training confusion matrix:\", train_confusion_matrix)\n",
    "print(\"Testing confusion matrix:\", test_confusion_matrix)\n",
    "\n",
    "print(\"Accuracy:\", metrics.accuracy_score(sorted_test_df[\"label_num\"], test_result))"
   ],
   "outputs": [
    {
     "output_type": "stream",
     "name": "stdout",
     "text": [
      "Training confusion matrix: [[2280  146]\n",
      " [   0 1038]]\n",
      "Testing confusion matrix: [[1174   72]\n",
      " [  19  442]]\n",
      "Accuracy: 0.5811364967779731\n",
      "992\n"
     ]
    }
   ],
   "metadata": {}
  }
 ],
 "metadata": {
  "interpreter": {
   "hash": "aee8b7b246df8f9039afb4144a1f6fd8d2ca17a180786b69acc140d282b71a49"
  },
  "kernelspec": {
   "display_name": "Python 3.8.5 64-bit",
   "name": "python3"
  },
  "language_info": {
   "codemirror_mode": {
    "name": "ipython",
    "version": 3
   },
   "file_extension": ".py",
   "mimetype": "text/x-python",
   "name": "python",
   "nbconvert_exporter": "python",
   "pygments_lexer": "ipython3",
   "version": "3.8.5"
  }
 },
 "nbformat": 4,
 "nbformat_minor": 4
}